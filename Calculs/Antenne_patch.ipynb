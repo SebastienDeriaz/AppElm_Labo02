{
 "cells": [
  {
   "cell_type": "markdown",
   "metadata": {},
   "source": [
    "# Antenne Patch\n",
    "\n",
    "![picture 2](../4802a341d7d2b52c18d1af409679c6f56a08eca58dba66e0a716840ed298abdb.png)  \n"
   ]
  },
  {
   "cell_type": "code",
   "execution_count": 87,
   "metadata": {},
   "outputs": [],
   "source": [
    "from scipy.constants import c, epsilon_0, mu_0\n",
    "from scipy.optimize import fsolve, minimize, Bounds, least_squares\n",
    "import matplotlib.pyplot as plt\n",
    "import numpy as np\n",
    "from numpy import sqrt, log, pi"
   ]
  },
  {
   "cell_type": "markdown",
   "metadata": {},
   "source": [
    "## Calcul des valeurs"
   ]
  },
  {
   "cell_type": "code",
   "execution_count": 27,
   "metadata": {},
   "outputs": [],
   "source": [
    "fr = 1.575e9 # 2.45 Ghz\n",
    "epsilon_r = 4.3\n",
    "h = 1.6e-3"
   ]
  },
  {
   "cell_type": "markdown",
   "metadata": {},
   "source": [
    "$$W=\\frac{1}{2f_r\\sqrt{\\epsilon_0\\epsilon_r}}\\sqrt{\\frac{2}{\\epsilon_r+1}}=\\frac{c}{2f_r}\\sqrt{\\frac{2}{\\epsilon_r+1}}$$"
   ]
  },
  {
   "cell_type": "code",
   "execution_count": 19,
   "metadata": {},
   "outputs": [
    {
     "name": "stdout",
     "output_type": "stream",
     "text": [
      "W = 58.5 mm\n"
     ]
    }
   ],
   "source": [
    "W = c/(2*fr)*sqrt(2/(epsilon_r + 1))\n",
    "print(f\"W = {W*1e3:.1f} mm\")"
   ]
  },
  {
   "cell_type": "markdown",
   "metadata": {},
   "source": [
    "$$\\epsilon_{reff}=\\frac{\\epsilon_r+1}{2}+\\frac{\\epsilon_r-1}{2}\\cdot \\frac{1}{\\sqrt{1+10\\frac{h}{W}}}$$"
   ]
  },
  {
   "cell_type": "code",
   "execution_count": 21,
   "metadata": {},
   "outputs": [
    {
     "name": "stdout",
     "output_type": "stream",
     "text": [
      "epsilon_reff = 4.11\n"
     ]
    }
   ],
   "source": [
    "epsilon_reff = (epsilon_r + 1) / 2 + (epsilon_r-1)/2 / sqrt(1+10*h/W)\n",
    "print(f\"epsilon_reff = {epsilon_reff:.2f}\")"
   ]
  },
  {
   "cell_type": "markdown",
   "metadata": {},
   "source": [
    "$$\\Delta L=0.412h\\frac{\\epsilon_r+0.3}{\\epsilon_r-0.258}\\cdot \\frac{\\frac{W}{h}+0.264}{\\frac{W}{h}+0.8}$$"
   ]
  },
  {
   "cell_type": "code",
   "execution_count": 23,
   "metadata": {},
   "outputs": [
    {
     "name": "stdout",
     "output_type": "stream",
     "text": [
      "DeltaL = 0.74 mm\n"
     ]
    }
   ],
   "source": [
    "DeltaL = 0.412 * h * (epsilon_r+0.3)/(epsilon_r-0.258) * (W/h + 0.264)/(W/h + 0.8)\n",
    "print(f\"DeltaL = {DeltaL*1e3:.2f} mm\")"
   ]
  },
  {
   "cell_type": "markdown",
   "metadata": {},
   "source": [
    "$$L=\\frac{1}{2f_r\\sqrt{\\epsilon_e\\mu_0}}\\sqrt{\\frac{1}{\\epsilon_{reff}-2\\Delta L}}$$"
   ]
  },
  {
   "cell_type": "code",
   "execution_count": 26,
   "metadata": {},
   "outputs": [
    {
     "name": "stdout",
     "output_type": "stream",
     "text": [
      "L = 46.9 mm\n"
     ]
    }
   ],
   "source": [
    "L = c/(2*fr) * sqrt(1/(epsilon_reff - 2*DeltaL))\n",
    "print(f\"L = {L*1e3:.1f} mm\")"
   ]
  },
  {
   "cell_type": "markdown",
   "metadata": {},
   "source": [
    "$$Z_{in}=\\frac{60}{\\sqrt{\\epsilon_{reff}}}\\ln\\left(\\frac{8h}{w_0}+\\frac{w_0}{4h}\\right)$$\n",
    "\n",
    "Valable uniquement si $w_0<h$. Sinon il faut utiliser\n",
    "\n",
    "$$Z_{in}=\\frac{120\\pi}{\\sqrt{\\epsilon_{reff}}}\\left(\\frac{w_0}{h}+1.393+0.667\\ln\\left(\\frac{w_0}{h}+1.444\\right)\\right)$$"
   ]
  },
  {
   "cell_type": "code",
   "execution_count": 99,
   "metadata": {},
   "outputs": [],
   "source": [
    "def Z_in(w0):\n",
    "    if w0<=h:\n",
    "        impedance = 60/sqrt(epsilon_reff) * log(8*h/w0 + w0/(4*h))\n",
    "    else:\n",
    "        impedance = 120*pi/sqrt(epsilon_reff)*(w0/h + 1.393 + 0.667*log(w0/h+1.444))\n",
    "    return impedance\n",
    "\n",
    "Z_in = np.vectorize(Z_in)"
   ]
  },
  {
   "cell_type": "code",
   "execution_count": 90,
   "metadata": {},
   "outputs": [],
   "source": [
    "output = least_squares(lambda x : Z_in(x)-50, (1), bounds=(0.0000001,100))\n",
    "w0 = output.x[0]\n",
    "w1 = w0 / 3\n"
   ]
  },
  {
   "cell_type": "code",
   "execution_count": 97,
   "metadata": {},
   "outputs": [
    {
     "name": "stdout",
     "output_type": "stream",
     "text": [
      "w0 = 1.60 mm -> Z_in = 62.4\n"
     ]
    }
   ],
   "source": [
    "print(f\"w0 = {w0*1e3:.2f} mm -> Z_in = {Z_in(w0):.1f}\")"
   ]
  },
  {
   "cell_type": "code",
   "execution_count": 105,
   "metadata": {},
   "outputs": [
    {
     "data": {
      "image/png": "[encoded data removed]",
      "text/plain": [
       "<Figure size 576x288 with 1 Axes>"
      ]
     },
     "metadata": {
      "needs_background": "light"
     },
     "output_type": "display_data"
    },
    {
     "name": "stdout",
     "output_type": "stream",
     "text": [
      "Valeur minimale : 62.44\n"
     ]
    }
   ],
   "source": [
    "w0_range = np.linspace(0.01e-3, 2e-3, 1000)\n",
    "Z_in_range = Z_in(w0_range)\n",
    "plt.figure(figsize=(8,4))\n",
    "plt.title('$Z_{in}$ en fonction de $w_0$')\n",
    "plt.xlabel('$w_0$')\n",
    "plt.ylabel('$Z_{in}$')\n",
    "plt.plot(w0_range, Z_in_range)\n",
    "plt.grid()\n",
    "plt.show()\n",
    "print(f\"Valeur minimale : {Z_in_range.min():.2f}\")"
   ]
  },
  {
   "cell_type": "code",
   "execution_count": 106,
   "metadata": {},
   "outputs": [
    {
     "name": "stdout",
     "output_type": "stream",
     "text": [
      "Longueur y1 : 23.79 mm\n"
     ]
    }
   ],
   "source": [
    "y0 = 10e-3\n",
    "y1 = c/fr/8\n",
    "print(f\"Longueur y1 : {y1*1e3:.2f} mm\")"
   ]
  }
 ],
 "metadata": {
  "interpreter": {
   "hash": "c640ee6f5a645129f8b6529d4f6137b08586114413da0c4a8fd269ac7d57753c"
  },
  "kernelspec": {
   "display_name": "Python 3.8.13 ('base')",
   "language": "python",
   "name": "python3"
  },
  "language_info": {
   "codemirror_mode": {
    "name": "ipython",
    "version": 3
   },
   "file_extension": ".py",
   "mimetype": "text/x-python",
   "name": "python",
   "nbconvert_exporter": "python",
   "pygments_lexer": "ipython3",
   "version": "3.8.13"
  },
  "orig_nbformat": 4
 },
 "nbformat": 4,
 "nbformat_minor": 2
}
