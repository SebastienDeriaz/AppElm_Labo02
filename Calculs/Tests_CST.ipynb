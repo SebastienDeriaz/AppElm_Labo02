{
 "cells": [
  {
   "cell_type": "code",
   "execution_count": 6,
   "metadata": {},
   "outputs": [],
   "source": [
    "from sys import path\n",
    "path.append('C:\\Program Files (x86)\\CST Studio Suite 2022\\AMD64\\python_cst_libraries')\n",
    "from cst import interface, results, eda"
   ]
  },
  {
   "cell_type": "code",
   "execution_count": 10,
   "metadata": {},
   "outputs": [
    {
     "ename": "TypeError",
     "evalue": "get_parameter_combination(): incompatible function arguments. The following argument types are supported:\n    1. (self: _cst_results.ResultModule, run_id: int) -> dict\n\nInvoked with: ''",
     "output_type": "error",
     "traceback": [
      "\u001b[1;31m---------------------------------------------------------------------------\u001b[0m",
      "\u001b[1;31mTypeError\u001b[0m                                 Traceback (most recent call last)",
      "\u001b[1;32md:\\Ecole\\HES-SO\\Cours\\AppElm\\Labos\\AppElm_Labo02\\Calculs\\Tests_CST.ipynb Cell 2'\u001b[0m in \u001b[0;36m<cell line: 1>\u001b[1;34m()\u001b[0m\n\u001b[1;32m----> <a href='vscode-notebook-cell:/d%3A/Ecole/HES-SO/Cours/AppElm/Labos/AppElm_Labo02/Calculs/Tests_CST.ipynb#ch0000001?line=0'>1</a>\u001b[0m results\u001b[39m.\u001b[39;49mResultModule\u001b[39m.\u001b[39;49mget_parameter_combination(\u001b[39m\"\u001b[39;49m\u001b[39m\"\u001b[39;49m)\n",
      "\u001b[1;31mTypeError\u001b[0m: get_parameter_combination(): incompatible function arguments. The following argument types are supported:\n    1. (self: _cst_results.ResultModule, run_id: int) -> dict\n\nInvoked with: ''"
     ]
    }
   ],
   "source": []
  }
 ],
 "metadata": {
  "interpreter": {
   "hash": "c640ee6f5a645129f8b6529d4f6137b08586114413da0c4a8fd269ac7d57753c"
  },
  "kernelspec": {
   "display_name": "Python 3.8.13 ('base')",
   "language": "python",
   "name": "python3"
  },
  "language_info": {
   "codemirror_mode": {
    "name": "ipython",
    "version": 3
   },
   "file_extension": ".py",
   "mimetype": "text/x-python",
   "name": "python",
   "nbconvert_exporter": "python",
   "pygments_lexer": "ipython3",
   "version": "3.8.13"
  },
  "orig_nbformat": 4
 },
 "nbformat": 4,
 "nbformat_minor": 2
}
